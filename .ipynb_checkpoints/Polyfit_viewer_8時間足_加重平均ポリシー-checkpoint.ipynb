{
 "cells": [
  {
   "cell_type": "code",
   "execution_count": null,
   "metadata": {},
   "outputs": [],
   "source": [
    "# view how polyfit make sense with FX data (oanda)"
   ]
  },
  {
   "cell_type": "code",
   "execution_count": 1,
   "metadata": {},
   "outputs": [],
   "source": [
    "from OANDA_FUNC_CONF import *\n",
    "from datetime import datetime, timezone, timedelta\n",
    "import matplotlib.pyplot as plt\n",
    "import numpy as np\n",
    "import pickle\n",
    "import random"
   ]
  },
  {
   "cell_type": "code",
   "execution_count": 2,
   "metadata": {},
   "outputs": [],
   "source": [
    "# accountID = '101-011-15612193-001'\n",
    "# access_token = '2897d1ae787989d30996a8a9d0a2c03d-7304ab578b56ccb454d311ecbc90cfdb'\n",
    "# api = API(access_token=access_token, environment=\"practice\")"
   ]
  },
  {
   "cell_type": "code",
   "execution_count": 50,
   "metadata": {},
   "outputs": [],
   "source": [
    "def get_datas(year=2020,month=1,day=10):\n",
    "    #fmt = \"%Y-%m-%dT%H:%M:00.000000000Z\"\n",
    "    fmt = \"%Y-%m-%dT%H:%M:%S.000000000Z\"\n",
    "    _from = datetime(year=year, month=month, day=day, hour=0, minute=0, second=0).strftime(fmt)\n",
    "    datas = History(\"M1\",5000,_from)\n",
    "    return datas\n",
    "\n",
    "def localtime(strf):\n",
    "    fmt = \"%Y-%m-%dT%H:%M:%S.000000000Z\"\n",
    "    ptime = datetime.strptime(strf, fmt)\n",
    "    \n",
    "    out = ptime.replace(tzinfo=timezone.utc).astimezone(timezone(timedelta(hours=+7)))\n",
    "    #out = ptime.replace(tzinfo=timezone.utc).astimezone(tz=None)\n",
    "    return out"
   ]
  },
  {
   "cell_type": "code",
   "execution_count": 51,
   "metadata": {},
   "outputs": [],
   "source": [
    "data = get_datas()"
   ]
  },
  {
   "cell_type": "code",
   "execution_count": 52,
   "metadata": {},
   "outputs": [
    {
     "name": "stdout",
     "output_type": "stream",
     "text": [
      "2017\n",
      "1\n",
      "2\n",
      "3\n",
      "4\n",
      "5\n",
      "6\n",
      "7\n",
      "8\n",
      "9\n",
      "10\n",
      "11\n",
      "12\n",
      "2018\n",
      "1\n",
      "2\n",
      "3\n",
      "4\n",
      "5\n",
      "6\n",
      "7\n",
      "8\n",
      "9\n",
      "10\n",
      "11\n",
      "12\n",
      "2019\n",
      "1\n",
      "2\n",
      "3\n",
      "4\n",
      "5\n",
      "6\n",
      "7\n",
      "8\n",
      "9\n",
      "10\n",
      "11\n",
      "12\n",
      "2020\n",
      "1\n",
      "2\n",
      "3\n",
      "4\n",
      "5\n",
      "6\n",
      "7\n",
      "8\n",
      "9\n",
      "10\n",
      "11\n",
      "12\n"
     ]
    }
   ],
   "source": [
    "usdjpy = []\n",
    "jptime = []\n",
    "first_loop = True\n",
    "for year in range(2017, 2021):\n",
    "    print(year)\n",
    "    for month in range(1,13):\n",
    "        print(month)\n",
    "        for day in range (1,31, 2):\n",
    "            if month == 2:\n",
    "                if day > 28:\n",
    "                    continue\n",
    "            # start code\n",
    "            datas = get_datas(year=year,month=month,day=day)\n",
    "            t = list(map(localtime, datas.t))\n",
    "            if first_loop:\n",
    "                usdjpy.extend(datas.y)\n",
    "                jptime.extend(t)\n",
    "                first_loop = False\n",
    "            else:\n",
    "                yy = [ y for y, t in zip(datas.y, list(map(localtime, datas.t))) if t > jptime[-1]]\n",
    "                tt = [ t for y, t in zip(datas.y, list(map(localtime, datas.t))) if t > jptime[-1]]\n",
    "                usdjpy.extend(yy)\n",
    "                jptime.extend(tt)"
   ]
  },
  {
   "cell_type": "code",
   "execution_count": 11,
   "metadata": {},
   "outputs": [],
   "source": [
    "# save\n",
    "with open(\"2019_usdjpy_s30\", \"wb\") as f:\n",
    "    pickle.dump((usdjpy, jptime), f)"
   ]
  },
  {
   "cell_type": "code",
   "execution_count": 5,
   "metadata": {},
   "outputs": [],
   "source": [
    "# read\n",
    "with open(\"2020_usdjpy_s30\", \"rb\") as f:\n",
    "    usdjpy, jptime = pickle.load(f)"
   ]
  },
  {
   "cell_type": "code",
   "execution_count": null,
   "metadata": {},
   "outputs": [],
   "source": []
  },
  {
   "cell_type": "code",
   "execution_count": 6,
   "metadata": {},
   "outputs": [],
   "source": [
    "def curvefit(arrY):\n",
    "    y = arrY\n",
    "    x = np.arange(len(y))\n",
    "    coe = np.polyfit(x,y,1)\n",
    "    y1 = np.poly1d(coe)(x)\n",
    "#     plt.scatter(x,y)\n",
    "#     plt.plot(x,y1)\n",
    "#     plt.show()\n",
    "    \n",
    "    # 決定関数\n",
    "    k = np.corrcoef(y,y1)[0,1] **2\n",
    "#     print(\"A1:{:.5f} A2:{:.5f} A3{:.5f}\".format(coe[0], coe[1], coe[2]))\n",
    "#     print(\"Fit rate is {}\".format(k))\n",
    "    return coe, k\n",
    "\n",
    "def curvefit3(arrY):\n",
    "    y = arrY\n",
    "    x = np.arange(len(y))\n",
    "    coe = np.polyfit(x,y,5)\n",
    "    y1 = np.poly1d(coe)(x)\n",
    "#     x2 = np.arange(len(y)*2)\n",
    "#     y2 = np.poly1d(coe)(x2)\n",
    "    plt.scatter(x,y)\n",
    "    plt.plot(x, y1)\n",
    "#     plt.plot(x2,y2)\n",
    "    plt.show()\n",
    "    \n",
    "    # 決定関数\n",
    "    k = np.corrcoef(y,y1)[0,1] **2\n",
    "    print(\"A1:{:.5f} A2:{:.5f} A3{:.5f}\".format(coe[0], coe[1], coe[2]))\n",
    "    print(\"Fit rate is {}\".format(k))\n",
    "    return coe, k"
   ]
  },
  {
   "cell_type": "code",
   "execution_count": 47,
   "metadata": {},
   "outputs": [],
   "source": [
    "W = 1200 # org 1200\n",
    "arr = np.array(usdjpy)#[200000:400000] # cut out some data"
   ]
  },
  {
   "cell_type": "code",
   "execution_count": null,
   "metadata": {},
   "outputs": [],
   "source": [
    "# 一次関数\n",
    "fit_rates = np.zeros(len(arr))\n",
    "trend = np.zeros(len(arr))\n",
    "# a2 = np.zeros(len(usdjpy))\n",
    "i = W\n",
    "while i < len(arr) - W:\n",
    "    y = arr[i-W:i]\n",
    "    coe, k = curvefit(y)\n",
    "    fit_rates[i] = k\n",
    "    trend[i] = coe[0]\n",
    "#     a2[i] = coe[1]\n",
    "    i += 1\n",
    "    "
   ]
  },
  {
   "cell_type": "code",
   "execution_count": null,
   "metadata": {},
   "outputs": [],
   "source": [
    "# norm\n",
    "def norm(arr):\n",
    "    arr = np.array(arr)\n",
    "    return ( arr - arr.min() ) / ( arr.max() - arr.min() )\n",
    "    \n",
    "    \n",
    "    "
   ]
  },
  {
   "cell_type": "code",
   "execution_count": null,
   "metadata": {},
   "outputs": [],
   "source": [
    "trend_backup = trend.copy()"
   ]
  },
  {
   "cell_type": "code",
   "execution_count": null,
   "metadata": {},
   "outputs": [],
   "source": [
    "trend = np.where(fit_rates > 0.87, trend_backup, None)\n"
   ]
  },
  {
   "cell_type": "code",
   "execution_count": null,
   "metadata": {
    "scrolled": true
   },
   "outputs": [],
   "source": [
    "# 正規化せずに重ねて表示 \n",
    "\n",
    "x1, x2 = 0, 10000\n",
    "for i in range(40):\n",
    "    fig, ax1 = plt.subplots()\n",
    "#     fig.figure(figsize=(16,6))\n",
    "    fig.set_figheight(6)\n",
    "    fig.set_figwidth(16)\n",
    "    color = 'tab:orange'\n",
    "    ax1.set_ylabel('usdjpy', color=color)\n",
    "    ax1.plot(arr[x1:x2], color=color)\n",
    "    \n",
    "    ax2 = ax1.twinx()\n",
    "    color = \"tab:green\"\n",
    "    ax2.set_ylabel(\"keisu\", color=color)\n",
    "    ax2.scatter(np.arange(len(trend[x1:x2])),trend[x1:x2], color=color)\n",
    "    ax2.grid(axis='y',linestyle='dotted', color='b')\n",
    "    \n",
    "    x1 += 10000\n",
    "    x2 += 10000\n",
    "\n",
    "ax1.tick_params(axis='y', labelcolor=color)"
   ]
  },
  {
   "cell_type": "code",
   "execution_count": null,
   "metadata": {},
   "outputs": [],
   "source": []
  },
  {
   "cell_type": "code",
   "execution_count": null,
   "metadata": {
    "scrolled": true
   },
   "outputs": [
    {
     "name": "stdout",
     "output_type": "stream",
     "text": [
      "**********************\n",
      "Long Condtion: 0.00118, 0.87009\n",
      "Time:2017-01-09 08:06:00+07:00\n",
      "profit:  -1.2139999999999986\n",
      "total profit:  -1.2139999999999986\n",
      "**********************\n",
      "Short Condtion: -0.00126, 0.87116\n",
      "Time:2017-01-10 06:23:00+07:00\n",
      "profit:  1.5260000000000105\n",
      "total profit:  0.3120000000000118\n",
      "**********************\n",
      "Long Condtion: 0.00121, 0.87051\n",
      "Time:2017-01-27 03:17:00+07:00\n",
      "profit:  -2.1359999999999957\n",
      "total profit:  -1.8239999999999839\n",
      "**********************\n",
      "Short Condtion: -0.00091, 0.87173\n",
      "Time:2017-02-02 19:01:00+07:00\n",
      "profit:  -1.4509999999999934\n",
      "total profit:  -3.2749999999999773\n",
      "**********************\n",
      "Long Condtion: 0.00117, 0.87082\n",
      "Time:2017-02-10 08:23:00+07:00\n",
      "profit:  -0.3079999999999927\n",
      "total profit:  -3.58299999999997\n",
      "**********************\n",
      "Short Condtion: -0.00064, 0.87024\n",
      "Time:2017-02-17 00:36:00+07:00\n",
      "profit:  -0.2179999999999893\n",
      "total profit:  -3.8009999999999593\n",
      "**********************\n",
      "Long Condtion: 0.00146, 0.87078\n",
      "Time:2017-03-01 17:48:00+07:00\n"
     ]
    }
   ],
   "source": [
    "class Trade:\n",
    "    def __init__(self, arr):\n",
    "        self.position = 0\n",
    "        self.inPrice = 0\n",
    "        self.profit = 0\n",
    "        self.arr = arr\n",
    "    def long(self,i):\n",
    "        if self.position == 0:\n",
    "            self.inPrice = self.arr[i]\n",
    "            self.position = 1\n",
    "        elif self.position == 1:\n",
    "            pass\n",
    "        elif self.position == -1:\n",
    "            self.close(i)\n",
    "    def short(self, i):\n",
    "        if self.position == 0:\n",
    "            self.inPrice = self.arr[i]\n",
    "            self.position = -1\n",
    "        elif self.position == 1:\n",
    "            self.close(i)\n",
    "        elif self.position == -1:\n",
    "            pass  \n",
    "    def close(self,i):\n",
    "        if self.position > 0:\n",
    "            profit = self.arr[i] - self.inPrice\n",
    "        elif self.position < 0:\n",
    "            profit = self.inPrice - self.arr[i]\n",
    "        else:\n",
    "            profit = None\n",
    "        if profit != None:\n",
    "            print(\"profit: \", profit)\n",
    "        else:\n",
    "            print(\"WARNING >>>>> DID NOT HAVE ANY POSITION BUT CLOSING...\")\n",
    "        self.profit += profit\n",
    "        self.position = 0  \n",
    "        print(\"total profit: \", self.profit)\n",
    "\n",
    "        \n",
    "t = Trade(usdjpy)\n",
    "i = W\n",
    "position = 0\n",
    "profit = 0\n",
    "while i < len(usdjpy):\n",
    "    y = usdjpy[i-W:i]\n",
    "    coe, k = curvefit(y)\n",
    "    \n",
    "    # control k thres\n",
    "    if t.position != 0:\n",
    "        # out\n",
    "        k_thres = 0.87\n",
    "    else:\n",
    "        # in\n",
    "        k_thres = 0.87\n",
    "    \n",
    "    if coe[0] > 0 and k > k_thres:\n",
    "        if t.position == 0:\n",
    "            print(\"**********************\")\n",
    "            print(\"Long Condtion: {:.5f}, {:.5f}\".format(coe[0], k))\n",
    "            print(\"Time:{}\".format(jptime[i]))\n",
    "        t.long(i)\n",
    "        \n",
    "    elif coe[0] < 0 and k > k_thres:\n",
    "        if t.position == 0:\n",
    "            print(\"**********************\")\n",
    "            print(\"Short Condtion: {:.5f}, {:.5f}\".format(coe[0], k))\n",
    "            print(\"Time:{}\".format(jptime[i]))\n",
    "        t.short(i)\n",
    "    \n",
    "    i += 1\n",
    "print(\"************\\n*************END\")     "
   ]
  },
  {
   "cell_type": "code",
   "execution_count": null,
   "metadata": {},
   "outputs": [],
   "source": [
    "# k 0.87,total profit 8.517 \n",
    "# k 0.82 total profit 5.01\n",
    "# k 0.89 total profit 2.23\n",
    "# k in at 0.89, out at 0.82 profit 2.65\n",
    "# k in at 0.87, out at 0.82 profit 5.78\n",
    "# k in at 0.82, out at 0.87 profit 8.56\n",
    "# k 0.8 profit 5.96\n",
    "# in 0.8, out 0.86, profit 11\n",
    "# 0.86 12"
   ]
  },
  {
   "cell_type": "code",
   "execution_count": null,
   "metadata": {
    "scrolled": true
   },
   "outputs": [],
   "source": [
    "# 正規化して重ねて表示\n",
    "\n",
    "x1, x2 = 0, 10000\n",
    "for i in range(40):\n",
    "    plt.figure(figsize=(16,6))\n",
    "    plt.plot(norm(usdjpy[x1:x2]))\n",
    "    plt.plot(norm(trend[x1:x2]), \"orange\")\n",
    "    plt.plot(norm(a2[x1:x2]), \"green\")\n",
    "#     plt.plot(np.zeros(len(usdjpy[x1:x2]))+ 0.2)\n",
    "#     plt.plot(np.zeros(len(usdjpy[x1:x2]))+ 0.8)\n",
    "    \n",
    "#     plt.plot(norm(fit_rates[x1:x2]), \"green\")\n",
    "    \n",
    "    x1 += 10000\n",
    "    x2 += 10000"
   ]
  },
  {
   "cell_type": "code",
   "execution_count": null,
   "metadata": {},
   "outputs": [],
   "source": []
  },
  {
   "cell_type": "code",
   "execution_count": null,
   "metadata": {},
   "outputs": [],
   "source": [
    "min(trend[5000:10000]) # 0.000017"
   ]
  },
  {
   "cell_type": "code",
   "execution_count": null,
   "metadata": {},
   "outputs": [],
   "source": [
    "plt.plot(usdjpy[W+5000:10000+W])"
   ]
  },
  {
   "cell_type": "code",
   "execution_count": null,
   "metadata": {},
   "outputs": [],
   "source": [
    "\n",
    "i = W\n",
    "pause = False\n",
    "result= []\n",
    "policy = {}\n",
    "\n",
    "\n",
    "trend = None\n",
    "def trendChanged(trend, c):\n",
    "    if trend == None:\n",
    "        if c > 0:\n",
    "            trend = 1\n",
    "        elif c < 0:\n",
    "            trend = -1\n",
    "        return 0\n",
    "    else:\n",
    "        if c > 0:\n",
    "            trendnew = 1\n",
    "        elif c < 0:\n",
    "            trendnew = -1\n",
    "            \n",
    "        if trend != trendnew:\n",
    "            trend = trendnew\n",
    "            return trendnew\n",
    "        else:\n",
    "            return 0\n",
    "\n",
    "\n",
    "\n",
    "while i < len(arr):\n",
    "    y = arr[i-W:i]\n",
    "    coe, k = curvefit(y)\n",
    "\n",
    "    i += 1\n",
    "\n",
    "    \n",
    "    if pause:\n",
    "#         input()\n",
    "        pause = False\n",
    "    if coe[0] < -0.000013: # \n",
    "        \n",
    "#         input()\n",
    "\n",
    "        result.append( arr[i+20] - arr[i] - 0.006)\n",
    "#         result.append(  arr[i] - arr[i+W] - 0.006)\n",
    "        print(\"profit now : \", sum(result))\n",
    "        pause = True\n",
    "        i += (W - 1)\n",
    "    \n",
    "#     elif k > 0.8 and coe[0] > 0 and coe[1] < 0:\n",
    "#         result.append( arr[i] - arr[i+W] - 0.006)\n",
    "#         print(\"profit now : \", sum(result))\n",
    "#         pause = True\n",
    "#         i += (W - 1)\n",
    "#         pass\n",
    "    "
   ]
  },
  {
   "cell_type": "code",
   "execution_count": null,
   "metadata": {},
   "outputs": [],
   "source": [
    "print(len(result))\n",
    "\n",
    "\n",
    "\n",
    "\n",
    "\n",
    "\n",
    "\n",
    "\n",
    "\n",
    "\n",
    "\n",
    "\n",
    "\n",
    "\n",
    "\n",
    "\n",
    "\n",
    "\n",
    "\n",
    "\n",
    "\n",
    "\n",
    "\n",
    "\n",
    "\n",
    "\n",
    "\n",
    "\n",
    "\n",
    "\n",
    "print(sum(result))"
   ]
  },
  {
   "cell_type": "code",
   "execution_count": null,
   "metadata": {},
   "outputs": [],
   "source": [
    "result"
   ]
  },
  {
   "cell_type": "code",
   "execution_count": null,
   "metadata": {},
   "outputs": [],
   "source": [
    "len([v for v in result if v > 0])"
   ]
  },
  {
   "cell_type": "code",
   "execution_count": null,
   "metadata": {},
   "outputs": [],
   "source": []
  }
 ],
 "metadata": {
  "kernelspec": {
   "display_name": "Python 3",
   "language": "python",
   "name": "python3"
  },
  "language_info": {
   "codemirror_mode": {
    "name": "ipython",
    "version": 3
   },
   "file_extension": ".py",
   "mimetype": "text/x-python",
   "name": "python",
   "nbconvert_exporter": "python",
   "pygments_lexer": "ipython3",
   "version": "3.7.4"
  }
 },
 "nbformat": 4,
 "nbformat_minor": 4
}
