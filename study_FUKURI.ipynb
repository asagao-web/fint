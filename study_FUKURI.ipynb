{
 "cells": [
  {
   "cell_type": "code",
   "execution_count": 7,
   "metadata": {},
   "outputs": [],
   "source": [
    "import numpy as np"
   ]
  },
  {
   "cell_type": "code",
   "execution_count": 8,
   "metadata": {},
   "outputs": [],
   "source": [
    "monthRate = 1.1\n",
    "capital = 1000\n",
    "# 1pip = 0.01yen"
   ]
  },
  {
   "cell_type": "code",
   "execution_count": 9,
   "metadata": {},
   "outputs": [],
   "source": [
    "# 2500時間(五カ月)で300pips\n",
    "# 1カ月で60pips"
   ]
  },
  {
   "cell_type": "code",
   "execution_count": 31,
   "metadata": {},
   "outputs": [],
   "source": [
    "def profit(units=50000,pips=50):\n",
    "    # 50pips勝った場合の利益JPY\n",
    "    return pips * units * 0.01\n",
    "def totalProfit(usdRate=100, capitalJPY=300000, monthPips=60, investRate=0.45, length=24):\n",
    "    updatedCapital = capitalJPY\n",
    "    for i in range(length):\n",
    "        unitsToOrder = int(updatedCapital / usdRate * investRate) * 100 # leverage 100\n",
    "        print(unitsToOrder)\n",
    "        updatedCapital += profit(units=unitsToOrder, pips=50)\n",
    "    \n",
    "    return updatedCapital\n",
    "        \n",
    "    "
   ]
  },
  {
   "cell_type": "code",
   "execution_count": 32,
   "metadata": {},
   "outputs": [
    {
     "name": "stdout",
     "output_type": "stream",
     "text": [
      "135000\n",
      "165300\n",
      "202500\n",
      "248100\n",
      "303900\n",
      "372300\n",
      "456000\n",
      "558600\n",
      "684300\n",
      "838300\n",
      "1026900\n",
      "1258000\n",
      "1541000\n",
      "1887700\n",
      "2312500\n",
      "2832800\n",
      "3470200\n",
      "4251000\n",
      "5207400\n",
      "6379100\n",
      "7814400\n",
      "9572600\n",
      "11726500\n",
      "14364900\n"
     ]
    },
    {
     "data": {
      "text/plain": [
       "39104650.0"
      ]
     },
     "execution_count": 32,
     "metadata": {},
     "output_type": "execute_result"
    }
   ],
   "source": [
    "totalProfit()"
   ]
  },
  {
   "cell_type": "code",
   "execution_count": 21,
   "metadata": {},
   "outputs": [
    {
     "data": {
      "text/plain": [
       "28500.0"
      ]
     },
     "execution_count": 21,
     "metadata": {},
     "output_type": "execute_result"
    }
   ],
   "source": []
  },
  {
   "cell_type": "code",
   "execution_count": null,
   "metadata": {},
   "outputs": [],
   "source": []
  }
 ],
 "metadata": {
  "kernelspec": {
   "display_name": "Python 3",
   "language": "python",
   "name": "python3"
  },
  "language_info": {
   "codemirror_mode": {
    "name": "ipython",
    "version": 3
   },
   "file_extension": ".py",
   "mimetype": "text/x-python",
   "name": "python",
   "nbconvert_exporter": "python",
   "pygments_lexer": "ipython3",
   "version": "3.7.4"
  }
 },
 "nbformat": 4,
 "nbformat_minor": 4
}
