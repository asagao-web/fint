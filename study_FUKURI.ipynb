{
 "cells": [
  {
   "cell_type": "code",
   "execution_count": 2,
   "metadata": {},
   "outputs": [],
   "source": [
    "import numpy as np"
   ]
  },
  {
   "cell_type": "code",
   "execution_count": 3,
   "metadata": {},
   "outputs": [],
   "source": [
    "monthRate = 1.1\n",
    "capital = 1000\n",
    "# 1pip = 0.01yen"
   ]
  },
  {
   "cell_type": "code",
   "execution_count": 4,
   "metadata": {},
   "outputs": [],
   "source": [
    "# 2500時間(五カ月)で300pips\n",
    "# 1カ月で60pips"
   ]
  },
  {
   "cell_type": "code",
   "execution_count": 5,
   "metadata": {},
   "outputs": [],
   "source": [
    "def profit(units=50000,pips=50):\n",
    "    # 50pips勝った場合の利益JPY\n",
    "    return pips * units * 0.01\n",
    "def totalProfit(usdRate=100, capitalJPY=300000, monthPips=60, investRate=0.45, length=24):\n",
    "    updatedCapital = capitalJPY\n",
    "    for i in range(length):\n",
    "        unitsToOrder = int(updatedCapital / usdRate * investRate) * 100 # leverage 100\n",
    "        print(unitsToOrder)\n",
    "        updatedCapital += profit(units=unitsToOrder, pips=50)\n",
    "    \n",
    "    return updatedCapital\n",
    "        \n",
    "    "
   ]
  },
  {
   "cell_type": "code",
   "execution_count": 6,
   "metadata": {},
   "outputs": [
    {
     "name": "stdout",
     "output_type": "stream",
     "text": [
      "135000\n",
      "165300\n",
      "202500\n",
      "248100\n",
      "303900\n",
      "372300\n",
      "456000\n",
      "558600\n",
      "684300\n",
      "838300\n",
      "1026900\n",
      "1258000\n",
      "1541000\n",
      "1887700\n",
      "2312500\n",
      "2832800\n",
      "3470200\n",
      "4251000\n",
      "5207400\n",
      "6379100\n",
      "7814400\n",
      "9572600\n",
      "11726500\n",
      "14364900\n"
     ]
    },
    {
     "data": {
      "text/plain": [
       "39104650.0"
      ]
     },
     "execution_count": 6,
     "metadata": {},
     "output_type": "execute_result"
    }
   ],
   "source": [
    "totalProfit()"
   ]
  },
  {
   "cell_type": "code",
   "execution_count": 22,
   "metadata": {},
   "outputs": [],
   "source": [
    "a = np.array([1,1,1,0,0])\n",
    "b = np.array([0,0,0,1,1])\n",
    "c = np.array([0,0,1,1])\n",
    "d = np.array([0,0,0,0,0,0,1,1,])\n",
    "e = np.array([0,0,0,0,0,1,1,0,])\n",
    "f = np.array([0,1,1,1,0,1,1,0,])\n",
    " "
   ]
  },
  {
   "cell_type": "code",
   "execution_count": 35,
   "metadata": {},
   "outputs": [],
   "source": [
    "# Weight\n",
    "def weightedAve(arr):\n",
    "    w = np.linspace(0.5,1,len(arr))\n",
    "    return (w * arr).sum() / len(arr) "
   ]
  },
  {
   "cell_type": "code",
   "execution_count": 36,
   "metadata": {},
   "outputs": [
    {
     "name": "stdout",
     "output_type": "stream",
     "text": [
      "0.375\n",
      "0.375\n",
      "0.4583333333333333\n",
      "0.24107142857142858\n",
      "0.2232142857142857\n",
      "0.4642857142857143\n"
     ]
    }
   ],
   "source": [
    "print(weightedAve(a))\n",
    "print(weightedAve(b))\n",
    "print(weightedAve(c))\n",
    "print(weightedAve(d))\n",
    "print(weightedAve(e))\n",
    "print(weightedAve(f))"
   ]
  },
  {
   "cell_type": "code",
   "execution_count": 29,
   "metadata": {},
   "outputs": [
    {
     "data": {
      "text/plain": [
       "array([1, 1, 1, 0, 0])"
      ]
     },
     "execution_count": 29,
     "metadata": {},
     "output_type": "execute_result"
    }
   ],
   "source": [
    "a"
   ]
  },
  {
   "cell_type": "code",
   "execution_count": null,
   "metadata": {},
   "outputs": [],
   "source": []
  }
 ],
 "metadata": {
  "interpreter": {
   "hash": "1f042f23c4ef47afec7ece97e2c51f73b89bb5a185f14903142c0f3dee14e672"
  },
  "kernelspec": {
   "display_name": "Python 3.8.10 64-bit ('venv': venv)",
   "name": "python3"
  },
  "language_info": {
   "codemirror_mode": {
    "name": "ipython",
    "version": 3
   },
   "file_extension": ".py",
   "mimetype": "text/x-python",
   "name": "python",
   "nbconvert_exporter": "python",
   "pygments_lexer": "ipython3",
   "version": "3.8.10"
  }
 },
 "nbformat": 4,
 "nbformat_minor": 4
}
